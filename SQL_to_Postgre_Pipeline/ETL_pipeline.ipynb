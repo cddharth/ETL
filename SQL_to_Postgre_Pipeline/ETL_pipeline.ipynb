{
 "cells": [
  {
   "cell_type": "code",
   "execution_count": 2,
   "id": "8cf645ec-f678-4d61-bca6-e4dee2b5b1f7",
   "metadata": {},
   "outputs": [
    {
     "name": "stdout",
     "output_type": "stream",
     "text": [
      "True\n"
     ]
    }
   ],
   "source": [
    "from sqlalchemy import create_engine\n",
    "import pyodbc\n",
    "import pandas as pd\n",
    "import os\n",
    "\n",
    "\n",
    "print('PGPASS' in os.environ)"
   ]
  },
  {
   "cell_type": "code",
   "execution_count": 4,
   "id": "d5ee3c34-a3e2-4708-8d49-2c23491724fe",
   "metadata": {},
   "outputs": [],
   "source": [
    "#get credentials from environment variables\n",
    "pwd = os.environ['PGPASS']\n",
    "uid = os.environ['PGUID']\n",
    "\n",
    "# sql db details\n",
    "driver = \"{ODBC Driver 17 for SQL Server}\"\n",
    "server = \"ATHENA\"\n",
    "database = \"AdventureWorksDW2022;\""
   ]
  },
  {
   "cell_type": "code",
   "execution_count": 6,
   "id": "6fda1fd8-44df-42f7-b5db-554c6c142ff8",
   "metadata": {},
   "outputs": [
    {
     "name": "stdout",
     "output_type": "stream",
     "text": [
      "SQL Server\n",
      "SQL Server Native Client RDA 11.0\n",
      "ODBC Driver 17 for SQL Server\n",
      "Microsoft Access Driver (*.mdb, *.accdb)\n",
      "Microsoft Excel Driver (*.xls, *.xlsx, *.xlsm, *.xlsb)\n",
      "Microsoft Access Text Driver (*.txt, *.csv)\n"
     ]
    }
   ],
   "source": [
    "#get drivers\n",
    "for drivers in pyodbc.drivers():\n",
    "    print(drivers)"
   ]
  },
  {
   "cell_type": "code",
   "execution_count": 8,
   "id": "586dff16-7d7b-4b81-8e5a-4634b1e3874f",
   "metadata": {},
   "outputs": [],
   "source": [
    "mssql_conn_str = (\n",
    "    'DRIVER=' + driver + \n",
    "    ';SERVER=' + server +\n",
    "    \"\\\\SQLEXPRESS\" + \n",
    "    ';DATABASE=' + database + \n",
    "    ';UID=' + uid + \n",
    "    ';PWD=' + pwd\n",
    ")\n",
    "\n",
    "postgres_conn_str = f\"postgresql://{uid}:{pwd}@{server}:5432/adventureworks\""
   ]
  },
  {
   "cell_type": "code",
   "execution_count": 10,
   "id": "05a588c1-1ca5-445c-808e-3035323222dc",
   "metadata": {
    "scrolled": true
   },
   "outputs": [
    {
     "name": "stderr",
     "output_type": "stream",
     "text": [
      "C:\\Users\\sarka\\AppData\\Local\\Temp\\ipykernel_15088\\1191991834.py:11: UserWarning: pandas only supports SQLAlchemy connectable (engine/connection) or database string URI or sqlite3 DBAPI2 connection. Other DBAPI2 objects are not tested. Please consider using SQLAlchemy.\n",
      "  df = pd.read_sql(query, src_conn)\n"
     ]
    },
    {
     "name": "stdout",
     "output_type": "stream",
     "text": [
      "No. of rows extracted 18484 for table: dbo.DimCustomer\n",
      "No. of rows extracted 296 for table: dbo.DimEmployee\n",
      "No. of rows extracted 606 for table: dbo.DimProduct\n",
      "No. of rows extracted 60398 for table: dbo.FactInternetSales\n",
      "No. of rows extracted 60855 for table: dbo.FactResellerSales\n",
      "Data extracted from sql server successfully.\n"
     ]
    }
   ],
   "source": [
    "#extract data from sql server\n",
    "def extract():\n",
    "    try:\n",
    "        src_conn = pyodbc.connect(mssql_conn_str)\n",
    "        tables = ['dbo.DimCustomer', 'dbo.DimEmployee', 'dbo.DimProduct', 'dbo.FactInternetSales', 'dbo.FactResellerSales']\n",
    "        dataframes = {}\n",
    "        \n",
    "        #select data from tables and add in dataframes\n",
    "        for table in tables:\n",
    "            query = f'select * from {table}'\n",
    "            df = pd.read_sql(query, src_conn)\n",
    "            print(f\"No. of rows extracted {len(df)} for table: {table}\")\n",
    "            dataframes[table] = df\n",
    "\n",
    "        src_conn.close()\n",
    "        print(\"Data extracted from sql server successfully.\")\n",
    "        return dataframes\n",
    "        \n",
    "    except Exception as e:\n",
    "        print(f\"Error extracting data: {e}\")\n",
    "        return None\n",
    "\n",
    "        \n",
    "        \n",
    "dataframes = extract()"
   ]
  },
  {
   "cell_type": "code",
   "execution_count": 12,
   "id": "5807ac56-f60b-48fb-a54d-b3bf91312653",
   "metadata": {},
   "outputs": [],
   "source": [
    "# Data Transform\n",
    "#table 1\n",
    "df = dataframes['dbo.DimCustomer']\n",
    "# coloumns to drop = NameStyle, MaritalStatus, suffix, yearly income, 13-23, commute distance\n",
    "df.drop(columns = ['NameStyle', 'MaritalStatus', 'Suffix', 'CommuteDistance'], inplace = True)\n",
    "\n",
    "columns_to_drop = df.columns[11:21]  # Select columns by index\n",
    "df.drop(columns=columns_to_drop, inplace=True)\n",
    "\n",
    "df1 = df.drop_duplicates()\n",
    "tf = []\n",
    "tf.append(df1)\n",
    "\n",
    "\n",
    "# table 2\n",
    "# ParentEmployeeNationalIDAlternateKey, namestyle\n",
    "df = dataframes['dbo.DimEmployee']\n",
    "# Data Cleaning 15:19,20:30\n",
    "df.drop(columns = df.columns[20:31], inplace = True)\n",
    "df.drop(columns = df.columns[15:19], inplace = True)\n",
    "df.drop(columns = ['ParentEmployeeNationalIDAlternateKey', 'NameStyle'], inplace = True)\n",
    "df2 = df.drop_duplicates()\n",
    "tf.append(df2)\n",
    "\n",
    "\n",
    "#table 3 \n",
    "df = dataframes['dbo.DimProduct']\n",
    "df.drop(columns = df.columns[15:36], inplace = True)\n",
    "df.drop(columns = df.columns[9:13], inplace = True)\n",
    "df.drop(columns = ['WeightUnitMeasureCode', 'SizeUnitMeasureCode', 'SpanishProductName', 'FrenchProductName'], inplace = True)\n",
    "df3 = df.drop_duplicates()\n",
    "\n",
    "tf.append(df3)\n",
    "\n",
    "\n",
    "\n",
    "#table 4 \n",
    "df = dataframes['dbo.FactInternetSales']\n",
    "df4 = df.drop_duplicates()\n",
    "tf.append(df4)\n",
    "\n",
    "\n",
    "#table 5 -\n",
    "df = dataframes['dbo.FactResellerSales']\n",
    "df5 = df.drop_duplicates()\n",
    "tf.append(df5)"
   ]
  },
  {
   "cell_type": "code",
   "execution_count": 14,
   "id": "8b8c4527-d9a8-4a16-bd74-ee90626cae0f",
   "metadata": {},
   "outputs": [],
   "source": [
    "tables = ['dbo.DimCustomer', 'dbo.DimEmployee', 'dbo.DimProduct', 'dbo.FactInternetSales', 'dbo.FactResellerSales']\n",
    "transformed_data = {}\n",
    "for table, data in zip(tables, tf):\n",
    "    transformed_data[table] = data\n"
   ]
  },
  {
   "cell_type": "code",
   "execution_count": 20,
   "id": "397551d7-d336-4320-b5c3-5ebe7cfacc77",
   "metadata": {
    "scrolled": true
   },
   "outputs": [
    {
     "name": "stdout",
     "output_type": "stream",
     "text": [
      "No. of rows imported18484\n",
      "No. of rows imported18780\n",
      "No. of rows imported19386\n",
      "No. of rows imported79784\n",
      "No. of rows imported140639\n",
      "Data loaded into PostgreSQL successfully.\n"
     ]
    }
   ],
   "source": [
    "\n",
    "# Load Data into PostgreSQL\n",
    "def load_data_to_postgres(dataframes):\n",
    "    try:\n",
    "        rows_imported = 0\n",
    "        postgres_engine = create_engine(postgres_conn_str)\n",
    "        for table_name, df in dataframes.items():\n",
    "            df.to_sql(f\"stg_{table_name}\", postgres_engine, if_exists='replace', index=False)\n",
    "            rows_imported += len(df)\n",
    "            print(f\"No. of rows imported{rows_imported}\")\n",
    "        print(\"Data loaded into PostgreSQL successfully.\")\n",
    "    except Exception as e:\n",
    "        print(f\"Error loading data: {e}\")\n",
    "\n",
    "load_data_to_postgres(transformed_data)"
   ]
  },
  {
   "cell_type": "code",
   "execution_count": 46,
   "id": "338fd963-14e4-40f9-83e2-fda5c5a021d9",
   "metadata": {},
   "outputs": [],
   "source": []
  },
  {
   "cell_type": "code",
   "execution_count": null,
   "id": "5720cce9-45ac-4522-a59a-ab0a999a71b8",
   "metadata": {},
   "outputs": [],
   "source": []
  },
  {
   "cell_type": "code",
   "execution_count": null,
   "id": "1870fbb1-14f4-4802-b15a-cf5b86f8addd",
   "metadata": {},
   "outputs": [],
   "source": []
  }
 ],
 "metadata": {
  "kernelspec": {
   "display_name": "Python 3 (ipykernel)",
   "language": "python",
   "name": "python3"
  },
  "language_info": {
   "codemirror_mode": {
    "name": "ipython",
    "version": 3
   },
   "file_extension": ".py",
   "mimetype": "text/x-python",
   "name": "python",
   "nbconvert_exporter": "python",
   "pygments_lexer": "ipython3",
   "version": "3.12.4"
  }
 },
 "nbformat": 4,
 "nbformat_minor": 5
}
