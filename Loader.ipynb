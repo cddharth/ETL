{
 "cells": [
  {
   "cell_type": "code",
   "execution_count": 20,
   "id": "c641ffcd-3109-458b-a7cb-f1392d3b0af5",
   "metadata": {},
   "outputs": [],
   "source": [
    "import pyodbc"
   ]
  },
  {
   "cell_type": "code",
   "execution_count": 22,
   "id": "8a606322-6411-47cc-84d4-8e2b5729e3c2",
   "metadata": {},
   "outputs": [],
   "source": [
    "# New Employee Data\n",
    "new_employee = [['Aditya', 'Sen', '1998-01-01', 4500],\n",
    "                ['Akansha', 'Shaw', '1998-11-01', 5500],\n",
    "                ['Alexis', 'Kent', '1999-02-11', 4500]]"
   ]
  },
  {
   "cell_type": "code",
   "execution_count": 24,
   "id": "8d3f6476-070b-4ef6-9ce9-1fdf20331745",
   "metadata": {},
   "outputs": [
    {
     "name": "stdout",
     "output_type": "stream",
     "text": [
      "(1, 'John', 'Doe', datetime.date(2024, 11, 27), Decimal('5000.00'), True)\n",
      "(2, 'Jane', 'Smith', datetime.date(2024, 11, 27), Decimal('5500.00'), True)\n",
      "(3, 'Robert', 'Brown', datetime.date(2024, 11, 27), Decimal('6000.00'), True)\n",
      "(4, 'Aditya', 'Sen', datetime.date(1998, 1, 1), Decimal('4500.00'), True)\n",
      "(5, 'Akansha', 'Shaw', datetime.date(1998, 11, 1), Decimal('5500.00'), True)\n",
      "(6, 'Alexis', 'Kent', datetime.date(1999, 2, 11), Decimal('4500.00'), True)\n"
     ]
    }
   ],
   "source": [
    "#define the server name and database name\n",
    "server = r'ATHENA\\SQLEXPRESS'\n",
    "database = 'Parks_and_Recreation'\n",
    "\n",
    "# define our connection string\n",
    "conx_str = (\n",
    "        f\"DRIVER={{ODBC Driver 17 for SQL Server}};\"\n",
    "        f\"SERVER={server};\"\n",
    "        f\"DATABASE={database};\"\n",
    "        \"Trusted_Connection=yes;\"\n",
    ")\n",
    "cnxn = pyodbc.connect(conx_str)\n",
    "\n",
    "# create the connection cursor\n",
    "cursor = cnxn.cursor()\n",
    "\n",
    "insert_query = '''INSERT INTO Employees (FirstName, LastName, DateOfBirth, Salary)\n",
    "VALUES (?, ?, ?, ?);'''\n",
    "\n",
    "for row in new_employee:\n",
    "\n",
    "    # Assign the values to be inserted to a new tuple\n",
    "    values = (row[0], row[1], row[2], row[3])\n",
    "\n",
    "    #insert into the database\n",
    "    cursor.execute(insert_query, values)\n",
    "\n",
    "# commiting the inserts\n",
    "\n",
    "cnxn.commit()\n",
    "\n",
    "\n",
    "# grab all the rows in the table\n",
    "cursor.execute('SELECT *  FROM Employees')\n",
    "\n",
    "# Loop through the results\n",
    "for row in cursor:\n",
    "    print(row)"
   ]
  },
  {
   "cell_type": "code",
   "execution_count": 17,
   "id": "452db0f3-c10b-47db-b586-0406cb0651b3",
   "metadata": {},
   "outputs": [
    {
     "name": "stdout",
     "output_type": "stream",
     "text": [
      "SQL Server\n",
      "SQL Server Native Client RDA 11.0\n",
      "ODBC Driver 17 for SQL Server\n",
      "Microsoft Access Driver (*.mdb, *.accdb)\n",
      "Microsoft Excel Driver (*.xls, *.xlsx, *.xlsm, *.xlsb)\n",
      "Microsoft Access Text Driver (*.txt, *.csv)\n"
     ]
    }
   ],
   "source": [
    "for drivers in pyodbc.drivers():\n",
    "    print(drivers)"
   ]
  },
  {
   "cell_type": "code",
   "execution_count": null,
   "id": "f04a0cd9-4766-4665-a2aa-d654ac157ed3",
   "metadata": {},
   "outputs": [],
   "source": []
  }
 ],
 "metadata": {
  "kernelspec": {
   "display_name": "Python 3 (ipykernel)",
   "language": "python",
   "name": "python3"
  },
  "language_info": {
   "codemirror_mode": {
    "name": "ipython",
    "version": 3
   },
   "file_extension": ".py",
   "mimetype": "text/x-python",
   "name": "python",
   "nbconvert_exporter": "python",
   "pygments_lexer": "ipython3",
   "version": "3.12.4"
  }
 },
 "nbformat": 4,
 "nbformat_minor": 5
}
